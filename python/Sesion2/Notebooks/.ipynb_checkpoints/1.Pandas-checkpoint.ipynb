{
 "cells": [
  {
   "cell_type": "code",
   "execution_count": 1,
   "metadata": {},
   "outputs": [
    {
     "name": "stdout",
     "output_type": "stream",
     "text": [
      "  Nombre  Edad\n",
      "0   Juan    25\n",
      "1  María    30\n",
      "2  Pedro    35\n"
     ]
    }
   ],
   "source": [
    "import pandas as pd\n",
    "\n",
    "# Lista de listas\n",
    "data = [['Juan', 25], ['María', 30], ['Pedro', 35]]\n",
    "\n",
    "# Crear un DataFrame\n",
    "df = pd.DataFrame(data, columns=['Nombre', 'Edad'])\n",
    "\n",
    "print(df)\n"
   ]
  },
  {
   "cell_type": "code",
   "execution_count": 2,
   "metadata": {},
   "outputs": [
    {
     "name": "stdout",
     "output_type": "stream",
     "text": [
      "  Nombre  Edad\n",
      "0   Juan    25\n",
      "1  María    30\n",
      "2  Pedro    35\n"
     ]
    }
   ],
   "source": [
    "import pandas as pd\n",
    "\n",
    "# Diccionario\n",
    "data = {'Nombre': ['Juan', 'María', 'Pedro'],\n",
    "        'Edad': [25, 30, 35]}\n",
    "\n",
    "# Crear un DataFrame\n",
    "df = pd.DataFrame(data)\n",
    "\n",
    "print(df)\n"
   ]
  },
  {
   "cell_type": "code",
   "execution_count": 3,
   "metadata": {},
   "outputs": [
    {
     "name": "stdout",
     "output_type": "stream",
     "text": [
      "  Nombre  Edad\n",
      "0   Juan    25\n",
      "1  María    30\n",
      "2  Pedro    35\n"
     ]
    }
   ],
   "source": [
    "import pandas as pd\n",
    "\n",
    "# Lista de tuplas\n",
    "data = [('Juan', 25), ('María', 30), ('Pedro', 35)]\n",
    "\n",
    "# Crear un DataFrame\n",
    "df = pd.DataFrame(data, columns=['Nombre', 'Edad'])\n",
    "\n",
    "print(df)\n"
   ]
  },
  {
   "cell_type": "code",
   "execution_count": 5,
   "metadata": {},
   "outputs": [
    {
     "name": "stdout",
     "output_type": "stream",
     "text": [
      "  nombre  edad     ciudad\n",
      "0   Juan    25     Madrid\n",
      "1  María    30  Barcelona\n",
      "2  Pedro    35    Sevilla\n"
     ]
    }
   ],
   "source": [
    "import pandas as pd\n",
    "\n",
    "# Leer un archivo CSV en un DataFrame\n",
    "df = pd.read_csv('./data/data.csv')\n",
    "\n",
    "print(df)\n"
   ]
  },
  {
   "cell_type": "code",
   "execution_count": 8,
   "metadata": {},
   "outputs": [
    {
     "name": "stdout",
     "output_type": "stream",
     "text": [
      "  nombre  edad     ciudad\n",
      "0   Juan    25     Madrid\n",
      "1  María    30  Barcelona\n",
      "2  Pedro    35    Sevilla\n"
     ]
    }
   ],
   "source": [
    "import pandas as pd\n",
    "\n",
    "# Leer un archivo CSV en un DataFrame\n",
    "df = pd.read_csv('./data/data', sep='|')\n",
    "\n",
    "print(df)"
   ]
  },
  {
   "cell_type": "code",
   "execution_count": 10,
   "metadata": {},
   "outputs": [
    {
     "name": "stdout",
     "output_type": "stream",
     "text": [
      "  nombre  edad     ciudad\n",
      "0   Juan    25     Madrid\n",
      "1  María    30  Barcelona\n",
      "2  Pedro    35    Sevilla\n"
     ]
    }
   ],
   "source": [
    "import pandas as pd\n",
    "\n",
    "# Leer un archivo CSV en un DataFrame\n",
    "df = pd.read_csv('./data/data_without_header', sep=',', header=None, names=[\"nombre\", \"edad\", \"ciudad\"])\n",
    "\n",
    "print(df)"
   ]
  },
  {
   "cell_type": "code",
   "execution_count": 7,
   "metadata": {},
   "outputs": [
    {
     "name": "stdout",
     "output_type": "stream",
     "text": [
      "  nombre  edad     ciudad\n",
      "0   Juan    25     Madrid\n",
      "1  María    30  Barcelona\n",
      "2  Pedro    35    Sevilla\n"
     ]
    }
   ],
   "source": [
    "import pandas as pd\n",
    "\n",
    "# Cargar el archivo JSON en un DataFrame\n",
    "df = pd.read_json('./data/data.json')\n",
    "\n",
    "print(df)\n"
   ]
  },
  {
   "cell_type": "code",
   "execution_count": null,
   "metadata": {},
   "outputs": [],
   "source": []
  }
 ],
 "metadata": {
  "kernelspec": {
   "display_name": "Python 3 (ipykernel)",
   "language": "python",
   "name": "python3"
  },
  "language_info": {
   "codemirror_mode": {
    "name": "ipython",
    "version": 3
   },
   "file_extension": ".py",
   "mimetype": "text/x-python",
   "name": "python",
   "nbconvert_exporter": "python",
   "pygments_lexer": "ipython3",
   "version": "3.9.18"
  }
 },
 "nbformat": 4,
 "nbformat_minor": 4
}
