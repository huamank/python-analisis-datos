{
 "cells": [
  {
   "cell_type": "code",
   "execution_count": 1,
   "metadata": {},
   "outputs": [],
   "source": [
    "import pandas as pd\n",
    "from sqlalchemy import create_engine\n",
    "\n",
    "infile = './data_retail/customer'\n",
    "db = 'retail_db'\n",
    "db_tbl_name = 'customer_jupyter'"
   ]
  },
  {
   "cell_type": "code",
   "execution_count": 2,
   "metadata": {},
   "outputs": [],
   "source": [
    "'''\n",
    "Create a mapping of df dtypes to mysql data types (not perfect, but close enough)\n",
    "'''\n",
    "def dtype_mapping():\n",
    "    return {'object' : 'TEXT',\n",
    "        'int64' : 'INT',\n",
    "        'float64' : 'FLOAT',\n",
    "        'datetime64' : 'DATETIME',\n",
    "        'bool' : 'TINYINT',\n",
    "        'category' : 'TEXT',\n",
    "        'timedelta[ns]' : 'TEXT'}"
   ]
  },
  {
   "cell_type": "code",
   "execution_count": 11,
   "metadata": {},
   "outputs": [],
   "source": [
    "'''\n",
    "Create a sqlalchemy engine\n",
    "'''\n",
    "def mysql_engine(user = 'root', password = 'root', host = '192.168.18.6', port = '3310', database = 'retail_db'):\n",
    "    engine = create_engine(\"mysql://{0}:{1}@{2}:{3}/{4}?charset=utf8\".format(user, password, host, port, database))\n",
    "    return engine"
   ]
  },
  {
   "cell_type": "code",
   "execution_count": 12,
   "metadata": {},
   "outputs": [],
   "source": [
    "'''\n",
    "Create a mysql connection from sqlalchemy engine\n",
    "'''\n",
    "def mysql_conn(engine):\n",
    "    conn = engine.raw_connection()\n",
    "    return conn\n"
   ]
  },
  {
   "cell_type": "code",
   "execution_count": 13,
   "metadata": {},
   "outputs": [],
   "source": [
    "'''\n",
    "Create sql input for table names and types\n",
    "'''\n",
    "def gen_tbl_cols_sql(df):\n",
    "    dmap = dtype_mapping()\n",
    "    sql = \"pi_db_uid INT AUTO_INCREMENT PRIMARY KEY\"\n",
    "    df1 = df.rename(columns = {\"\" : \"nocolname\"})\n",
    "    hdrs = df1.dtypes.index\n",
    "    hdrs_list = [(hdr, str(df1[hdr].dtype)) for hdr in hdrs]\n",
    "    for hl in hdrs_list:\n",
    "        sql += \" ,{0} {1}\".format(hl[0], dmap[hl[1]])\n",
    "    return sql\n"
   ]
  },
  {
   "cell_type": "code",
   "execution_count": 14,
   "metadata": {},
   "outputs": [],
   "source": [
    "'''\n",
    "Create a mysql table from a df\n",
    "'''\n",
    "def create_mysql_tbl_schema(df, conn, db, tbl_name):\n",
    "    tbl_cols_sql = gen_tbl_cols_sql(df)\n",
    "    sql = \"USE {0}; CREATE TABLE IF NOT EXISTS {1} ({2})\".format(db, tbl_name, tbl_cols_sql)\n",
    "    cur = conn.cursor()\n",
    "    cur.execute(sql)\n",
    "    cur.close()\n",
    "    conn.commit()"
   ]
  },
  {
   "cell_type": "code",
   "execution_count": 15,
   "metadata": {},
   "outputs": [],
   "source": [
    "'''\n",
    "Write df data to newly create mysql table\n",
    "'''\n",
    "def df_to_mysql(df, engine, tbl_name):\n",
    "    df.to_sql(tbl_name, engine, if_exists='replace')"
   ]
  },
  {
   "cell_type": "code",
   "execution_count": 16,
   "metadata": {},
   "outputs": [],
   "source": [
    "infile = './data_retail/customers'\n",
    "db = 'retail_db'\n",
    "db_tbl_name = 'customers_jupyter'\n",
    "df = pd.read_csv(infile,sep='|', header=None, names=[\"customer_id\",\"customer_fname\",\"customer_lname\",\"customer_email\",\"customer_password\",\"customer_street\",\"customer_city\",\"customer_state\",\"customer_zipcode\"])\n",
    "\n",
    "create_mysql_tbl_schema(df, mysql_conn(mysql_engine()), db, db_tbl_name)\n",
    "df_to_mysql(df, mysql_engine(), db_tbl_name)"
   ]
  },
  {
   "cell_type": "code",
   "execution_count": 17,
   "metadata": {},
   "outputs": [],
   "source": [
    "infile = './data_retail/orders'\n",
    "db_tbl_name = 'orders_jupyter'\n",
    "\n",
    "df = pd.read_csv(infile,sep='|', header=None, names=[\"order_id\",\"order_date\",\"order_customer_id\",\"order_status\"])\n",
    "create_mysql_tbl_schema(df, mysql_conn(mysql_engine()), db, db_tbl_name)\n",
    "df_to_mysql(df, mysql_engine(), db_tbl_name)"
   ]
  },
  {
   "cell_type": "code",
   "execution_count": 18,
   "metadata": {},
   "outputs": [],
   "source": [
    "infile = './data_retail/order_items'\n",
    "db_tbl_name = 'order_items_jupyter'\n",
    "\n",
    "df = pd.read_csv(infile,sep='|', header=None, names=[\"order_item_id\",\"order_item_order_id\",\"order_item_product_id\",\"order_item_quantity\",\"order_item_subtotal\",\"order_item_product_price\"])\n",
    "create_mysql_tbl_schema(df, mysql_conn(mysql_engine()), db, db_tbl_name)\n",
    "df_to_mysql(df, mysql_engine(), db_tbl_name)"
   ]
  },
  {
   "cell_type": "code",
   "execution_count": 19,
   "metadata": {},
   "outputs": [],
   "source": [
    "infile = './data_retail/departments'\n",
    "db_tbl_name = 'departments_jupyter'\n",
    "\n",
    "df = pd.read_csv(infile,sep='|', header=None, names=['department_id', 'department_name'])\n",
    "create_mysql_tbl_schema(df, mysql_conn(mysql_engine()), db, db_tbl_name)\n",
    "df_to_mysql(df, mysql_engine(), db_tbl_name)"
   ]
  },
  {
   "cell_type": "code",
   "execution_count": 20,
   "metadata": {},
   "outputs": [],
   "source": [
    "infile = './data_retail/categories'\n",
    "db_tbl_name = 'categories_jupyter'\n",
    "\n",
    "df = pd.read_csv(infile,sep='|', header=None, names=[\"category_id\", \"category_department_id\", \"category_name\"])\n",
    "create_mysql_tbl_schema(df, mysql_conn(mysql_engine()), db, db_tbl_name)\n",
    "df_to_mysql(df, mysql_engine(), db_tbl_name)"
   ]
  },
  {
   "cell_type": "code",
   "execution_count": 21,
   "metadata": {},
   "outputs": [],
   "source": [
    "infile = './data_retail/products'\n",
    "db_tbl_name = 'products_jupyter'\n",
    "\n",
    "df = pd.read_csv(infile,sep='|', header=None, names=[\"product_id\",\"product_category_id\",\"product_name\",\"product_description\",\"product_price\",\"product_image\"])\n",
    "create_mysql_tbl_schema(df, mysql_conn(mysql_engine()), db, db_tbl_name)\n",
    "df_to_mysql(df, mysql_engine(), db_tbl_name)"
   ]
  },
  {
   "cell_type": "code",
   "execution_count": 24,
   "metadata": {},
   "outputs": [],
   "source": []
  },
  {
   "cell_type": "code",
   "execution_count": null,
   "metadata": {},
   "outputs": [],
   "source": []
  }
 ],
 "metadata": {
  "kernelspec": {
   "display_name": "Python 3 (ipykernel)",
   "language": "python",
   "name": "python3"
  },
  "language_info": {
   "codemirror_mode": {
    "name": "ipython",
    "version": 3
   },
   "file_extension": ".py",
   "mimetype": "text/x-python",
   "name": "python",
   "nbconvert_exporter": "python",
   "pygments_lexer": "ipython3",
   "version": "3.9.18"
  },
  "vscode": {
   "interpreter": {
    "hash": "5a4aefe5433830292dd56e41ad848b6fae049c2ddf8b1ae26c5dfa2d885cad7a"
   }
  }
 },
 "nbformat": 4,
 "nbformat_minor": 4
}
