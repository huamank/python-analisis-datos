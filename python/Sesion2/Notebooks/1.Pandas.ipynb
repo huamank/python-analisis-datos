{
 "cells": [
  {
   "cell_type": "code",
   "execution_count": 1,
   "metadata": {},
   "outputs": [
    {
     "name": "stdout",
     "output_type": "stream",
     "text": [
      "  Nombre  Edad\n",
      "0   Juan    25\n",
      "1  María    30\n",
      "2  Pedro    35\n"
     ]
    }
   ],
   "source": [
    "import pandas as pd\n",
    "\n",
    "# Lista de listas\n",
    "data = [['Juan', 25], ['María', 30], ['Pedro', 35]]\n",
    "\n",
    "# Crear un DataFrame\n",
    "df = pd.DataFrame(data, columns=['Nombre', 'Edad'])\n",
    "\n",
    "print(df)\n"
   ]
  },
  {
   "cell_type": "code",
   "execution_count": 2,
   "metadata": {},
   "outputs": [
    {
     "name": "stdout",
     "output_type": "stream",
     "text": [
      "  Nombre  Edad\n",
      "0   Juan    25\n",
      "1  María    30\n",
      "2  Pedro    35\n"
     ]
    }
   ],
   "source": [
    "import pandas as pd\n",
    "\n",
    "# Diccionario\n",
    "data = {'Nombre': ['Juan', 'María', 'Pedro'],\n",
    "        'Edad': [25, 30, 35]}\n",
    "\n",
    "# Crear un DataFrame\n",
    "df = pd.DataFrame(data)\n",
    "\n",
    "print(df)\n"
   ]
  },
  {
   "cell_type": "code",
   "execution_count": 3,
   "metadata": {},
   "outputs": [
    {
     "name": "stdout",
     "output_type": "stream",
     "text": [
      "  Nombre  Edad\n",
      "0   Juan    25\n",
      "1  María    30\n",
      "2  Pedro    35\n"
     ]
    }
   ],
   "source": [
    "import pandas as pd\n",
    "\n",
    "# Lista de tuplas\n",
    "data = [('Juan', 25), ('María', 30), ('Pedro', 35)]\n",
    "\n",
    "# Crear un DataFrame\n",
    "df = pd.DataFrame(data, columns=['Nombre', 'Edad'])\n",
    "\n",
    "print(df)\n"
   ]
  },
  {
   "cell_type": "code",
   "execution_count": 4,
   "metadata": {},
   "outputs": [
    {
     "name": "stdout",
     "output_type": "stream",
     "text": [
      "  nombre  edad     ciudad\n",
      "0   Juan    25     Madrid\n",
      "1  María    30  Barcelona\n",
      "2  Pedro    35    Sevilla\n"
     ]
    }
   ],
   "source": [
    "import pandas as pd\n",
    "\n",
    "# Leer un archivo CSV en un DataFrame\n",
    "df = pd.read_csv('./data/data.csv')\n",
    "\n",
    "print(df)\n"
   ]
  },
  {
   "cell_type": "code",
   "execution_count": 39,
   "metadata": {},
   "outputs": [
    {
     "name": "stdout",
     "output_type": "stream",
     "text": [
      "  nombre  edad     ciudad\n",
      "0   Juan   NaN     Madrid\n",
      "1  María  30.0  Barcelona\n",
      "2  Pedro  35.0    Sevilla\n"
     ]
    }
   ],
   "source": [
    "import pandas as pd\n",
    "\n",
    "# Leer un archivo CSV en un DataFrame\n",
    "df = pd.read_csv('./data/data', sep='|')\n",
    "\n",
    "print(df)"
   ]
  },
  {
   "cell_type": "code",
   "execution_count": 11,
   "metadata": {},
   "outputs": [
    {
     "name": "stdout",
     "output_type": "stream",
     "text": [
      "  nombre  edad     ciudad\n",
      "0   Juan    25     Madrid\n",
      "1  María    30  Barcelona\n",
      "2  Pedro    35    Sevilla\n"
     ]
    }
   ],
   "source": [
    "import pandas as pd\n",
    "\n",
    "# Leer un archivo CSV en un DataFrame\n",
    "df = pd.read_csv('./data/data_without_header', sep=',', header=None, names=[\"nombre\", \"edad\", \"ciudad\"])\n",
    "\n",
    "print(df)"
   ]
  },
  {
   "cell_type": "code",
   "execution_count": 12,
   "metadata": {
    "scrolled": true
   },
   "outputs": [
    {
     "name": "stdout",
     "output_type": "stream",
     "text": [
      "  nombre  edad     ciudad\n",
      "0   Juan    25     Madrid\n",
      "1  María    30  Barcelona\n",
      "2  Pedro    35    Sevilla\n"
     ]
    }
   ],
   "source": [
    "import pandas as pd\n",
    "\n",
    "# Cargar el archivo JSON en un DataFrame\n",
    "df = pd.read_json('./data/data.json')\n",
    "\n",
    "print(df)\n"
   ]
  },
  {
   "cell_type": "code",
   "execution_count": 18,
   "metadata": {},
   "outputs": [
    {
     "name": "stdout",
     "output_type": "stream",
     "text": [
      "  Nombre  Edad  Ciudad\n",
      "0   Juan    25  Madrid\n",
      "Index(['Nombre', 'Edad', 'Ciudad'], dtype='object')\n",
      "RangeIndex(start=0, stop=3, step=1)\n",
      "       Edad\n",
      "count   3.0\n",
      "mean   30.0\n",
      "std     5.0\n",
      "min    25.0\n",
      "25%    27.5\n",
      "50%    30.0\n",
      "75%    32.5\n",
      "max    35.0\n"
     ]
    }
   ],
   "source": [
    "import pandas as pd\n",
    "\n",
    "data = {'Nombre': ['Juan', 'María', 'Pedro'],\n",
    "        'Edad': [25, 30, 35],\n",
    "        'Ciudad': ['Madrid', 'Barcelona', 'Sevilla']}\n",
    "\n",
    "df = pd.DataFrame(data)\n",
    "\n",
    "# Obtener las primeras filas del DataFrame\n",
    "print(df.head(1))\n",
    "\n",
    "# Obtener información sobre las columnas\n",
    "print(df.columns)\n",
    "\n",
    "# Obtener información sobre el índice\n",
    "print(df.index)\n",
    "\n",
    "# Obtener estadísticas descriptivas\n",
    "print(df.describe())"
   ]
  },
  {
   "cell_type": "code",
   "execution_count": 20,
   "metadata": {},
   "outputs": [
    {
     "name": "stdout",
     "output_type": "stream",
     "text": [
      "  Nombre  Edad   Ciudad\n",
      "2  Pedro    35  Sevilla\n"
     ]
    }
   ],
   "source": [
    "print(df.tail(1))"
   ]
  },
  {
   "cell_type": "code",
   "execution_count": 24,
   "metadata": {},
   "outputs": [
    {
     "name": "stdout",
     "output_type": "stream",
     "text": [
      "0     Juan\n",
      "1    María\n",
      "2    Pedro\n",
      "Name: Nombre, dtype: object\n",
      "\n",
      " \n",
      "\n",
      "  Nombre  Edad\n",
      "0   Juan    25\n",
      "1  María    30\n",
      "2  Pedro    35\n"
     ]
    }
   ],
   "source": [
    "import pandas as pd\n",
    "\n",
    "df = pd.DataFrame(data)\n",
    "\n",
    "# Seleccionar una columna\n",
    "print(df['Nombre'])\n",
    "print('\\n \\n')\n",
    "# Seleccionar varias columnas\n",
    "print(df[['Nombre', 'Edad']])"
   ]
  },
  {
   "cell_type": "code",
   "execution_count": null,
   "metadata": {},
   "outputs": [],
   "source": []
  },
  {
   "cell_type": "code",
   "execution_count": 25,
   "metadata": {},
   "outputs": [
    {
     "name": "stdout",
     "output_type": "stream",
     "text": [
      "Nombre      Juan\n",
      "Edad          25\n",
      "Ciudad    Madrid\n",
      "Name: 0, dtype: object\n",
      "  Nombre  Edad   Ciudad\n",
      "0   Juan    25   Madrid\n",
      "2  Pedro    35  Sevilla\n",
      "  Nombre  Edad     Ciudad\n",
      "1  María    30  Barcelona\n",
      "2  Pedro    35    Sevilla\n"
     ]
    }
   ],
   "source": [
    "# Seleccionar una fila por índice\n",
    "print(df.loc[0])\n",
    "\n",
    "# Seleccionar varias filas por índices\n",
    "print(df.loc[[0, 2]])\n",
    "\n",
    "# Seleccionar datos por condición\n",
    "print(df[df['Edad'] > 25])"
   ]
  },
  {
   "cell_type": "code",
   "execution_count": 28,
   "metadata": {},
   "outputs": [
    {
     "name": "stdout",
     "output_type": "stream",
     "text": [
      "           Valor\n",
      "Grupo           \n",
      "A      12.333333\n",
      "B      21.000000\n",
      "\n",
      " \n",
      " Calcular la suma por grupo\n",
      "       Valor\n",
      "Grupo       \n",
      "A         37\n",
      "B         63\n"
     ]
    }
   ],
   "source": [
    "# Agrupar datos y calcular estadísticas\n",
    "\n",
    "import pandas as pd\n",
    "\n",
    "# Crear un DataFrame de ejemplo\n",
    "data = {'Grupo': ['A', 'B', 'A', 'B', 'A', 'B'],\n",
    "        'Valor': [10, 20, 15, 25, 12, 18]}\n",
    "df = pd.DataFrame(data)\n",
    "\n",
    "# Calcular el promedio por grupo\n",
    "promedio_por_grupo = df.groupby('Grupo').mean()\n",
    "print(promedio_por_grupo)\n",
    "\n",
    "print('\\n \\n Calcular la suma por grupo')\n",
    "suma_por_grupo = df.groupby('Grupo').sum()\n",
    "print(suma_por_grupo)\n"
   ]
  },
  {
   "cell_type": "code",
   "execution_count": 33,
   "metadata": {},
   "outputs": [
    {
     "name": "stdout",
     "output_type": "stream",
     "text": [
      "    A   B clave\n",
      "0  A0  B0    K0\n",
      "1  A1  B1    K1\n",
      "2  A2  B2    K2\n",
      "3  A3  B3    K3\n",
      "\n",
      "\n",
      "    C   D clave\n",
      "0  C0  D0    K0\n",
      "1  C1  D1    K5\n",
      "2  C2  D2    K2\n",
      "3  C3  D3    K4\n",
      "\n",
      "\n",
      "    A   B clave   C   D\n",
      "0  A0  B0    K0  C0  D0\n",
      "1  A2  B2    K2  C2  D2\n"
     ]
    }
   ],
   "source": [
    "# Unir DataFrames (Merge)\n",
    "import pandas as pd\n",
    "\n",
    "# Crear dos DataFrames de ejemplo\n",
    "df1 = pd.DataFrame({'A': ['A0', 'A1', 'A2', 'A3'],\n",
    "                    'B': ['B0', 'B1', 'B2', 'B3'],\n",
    "                    'clave': ['K0', 'K1', 'K2', 'K3']})\n",
    "df2 = pd.DataFrame({'C': ['C0', 'C1', 'C2', 'C3'],\n",
    "                    'D': ['D0', 'D1', 'D2', 'D3'],\n",
    "                    'clave': ['K0', 'K5', 'K2', 'K4']})\n",
    "\n",
    "print(df1.head())\n",
    "\n",
    "print('\\n')\n",
    "print(df2.head())\n",
    "print('\\n')\n",
    "# Unir los DataFrames por la columna 'clave'\n",
    "resultado = pd.merge(df1, df2, on='clave')\n",
    "print(resultado)\n"
   ]
  },
  {
   "cell_type": "code",
   "execution_count": 38,
   "metadata": {},
   "outputs": [
    {
     "name": "stdout",
     "output_type": "stream",
     "text": [
      "     A    B    C\n",
      "0  1.0  5.0    a\n",
      "1  2.0  NaN    b\n",
      "2  NaN  NaN  NaN\n",
      "3  4.0  8.0    d\n",
      "\n",
      "\n",
      "     A    B  C\n",
      "0  1.0  5.0  a\n",
      "3  4.0  8.0  d\n",
      "\n",
      "\n",
      "     A    B  C\n",
      "0  1.0  5.0  a\n",
      "1  2.0    0  b\n",
      "2    0    0  0\n",
      "3  4.0  8.0  d\n"
     ]
    }
   ],
   "source": [
    "# Manejo de datos faltantes (Missing Data)\n",
    "import pandas as pd\n",
    "import numpy as np\n",
    "\n",
    "# Crear un DataFrame de ejemplo con datos faltantes\n",
    "df = pd.DataFrame({'A': [1, 2, np.nan, 4],\n",
    "                   'B': [5, np.nan, np.nan, 8],\n",
    "                   'C': ['a', 'b', np.nan, 'd']})\n",
    "\n",
    "print(df.head())\n",
    "print('\\n')\n",
    "# Eliminar filas con datos faltantes\n",
    "df_sin_na = df.dropna()\n",
    "print(df_sin_na)\n",
    "\n",
    "print('\\n')\n",
    "\n",
    "# Llenar valores faltantes con un valor específico\n",
    "df_lleno = df.fillna(value='0')\n",
    "print(df_lleno)\n"
   ]
  },
  {
   "cell_type": "code",
   "execution_count": null,
   "metadata": {},
   "outputs": [],
   "source": [
    "def suma(a;b):\n",
    "    return a+b"
   ]
  },
  {
   "cell_type": "code",
   "execution_count": 40,
   "metadata": {},
   "outputs": [
    {
     "name": "stdout",
     "output_type": "stream",
     "text": [
      "   A  B\n",
      "0  1  5\n",
      "1  2  6\n",
      "2  3  7\n",
      "3  4  8\n",
      "\n",
      "\n",
      "   A  B  A_doble\n",
      "0  1  5        2\n",
      "1  2  6        4\n",
      "2  3  7        6\n",
      "3  4  8        8\n",
      "\n",
      "\n",
      "   A  B  A_doble  suma\n",
      "0  1  5        2     6\n",
      "1  2  6        4     8\n",
      "2  3  7        6    10\n",
      "3  4  8        8    12\n"
     ]
    }
   ],
   "source": [
    "# Aplicar funciones a columnas o filas\n",
    "import pandas as pd\n",
    "\n",
    "# Crear un DataFrame de ejemplo\n",
    "df = pd.DataFrame({'A': [1, 2, 3, 4],\n",
    "                   'B': [5, 6, 7, 8]})\n",
    "print(df.head())\n",
    "print('\\n')\n",
    "# Aplicar una función a cada elemento de una columna\n",
    "df['A_doble'] = df['A'].apply(lambda x: x * 2)\n",
    "print(df)\n",
    "\n",
    "print('\\n')\n",
    "# Aplicar una función a cada fila\n",
    "df['suma'] = df.apply(lambda row: row['A'] + row['B'], axis=1)\n",
    "print(df)\n"
   ]
  },
  {
   "cell_type": "code",
   "execution_count": null,
   "metadata": {},
   "outputs": [],
   "source": []
  },
  {
   "cell_type": "code",
   "execution_count": null,
   "metadata": {},
   "outputs": [],
   "source": []
  }
 ],
 "metadata": {
  "kernelspec": {
   "display_name": "Python 3 (ipykernel)",
   "language": "python",
   "name": "python3"
  },
  "language_info": {
   "codemirror_mode": {
    "name": "ipython",
    "version": 3
   },
   "file_extension": ".py",
   "mimetype": "text/x-python",
   "name": "python",
   "nbconvert_exporter": "python",
   "pygments_lexer": "ipython3",
   "version": "3.9.18"
  }
 },
 "nbformat": 4,
 "nbformat_minor": 4
}
