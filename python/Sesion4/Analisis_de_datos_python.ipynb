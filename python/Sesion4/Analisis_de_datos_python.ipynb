{
 "cells": [
  {
   "cell_type": "markdown",
   "id": "8ba06ea2-1b5d-4b0e-b0fd-63360cbe2730",
   "metadata": {},
   "source": [
    "# Análisis de Datos\n",
    "- Introducción a las librerías\n",
    "- Librerías para el Análisis de Datos \n",
    "- PANDAS \n",
    "- NUMPY\n",
    "- SEABORN\n"
   ]
  },
  {
   "cell_type": "markdown",
   "id": "23464fb4-043b-4d00-b49b-f0146dbd68bd",
   "metadata": {},
   "source": [
    "### Análisis de Datos\n",
    "El análisis de datos es el proceso de examinar, limpiar, transformar y modelar datos para descubrir información útil, patrones, tendencias o inferencias que puedan ayudar en la toma de decisiones.\n",
    "\n",
    "Importancia:\n",
    "\n",
    "- Ayuda a las organizaciones a comprender mejor su negocio, clientes o mercado a través de la información obtenida.\n",
    "- Permite tomar decisiones más informadas y estratégicas.\n",
    "- Facilita la identificación de oportunidades, riesgos y áreas de mejora.\n",
    "\n",
    "Este proceso consta de los siguientes pasos:\n",
    "\n",
    "- Recopilación de Datos\n",
    "- Limpieza de Datos\n",
    "- Modelado y Análisis\n",
    "- Interpretación y Comunicación de Resultados\n",
    "\n"
   ]
  },
  {
   "cell_type": "markdown",
   "id": "d5b34808-9c1d-4389-a580-1280726e3595",
   "metadata": {},
   "source": [
    "### Introduccipon a las librerias\n",
    "Las librerías son conjuntos de código predefinido que ofrecen funciones y herramientas para realizar tareas específicas.\n",
    "\n",
    "Importancia de las Librerías:\n",
    "- Simplifican el desarrollo de software al proporcionar funcionalidades listas para usar.\n",
    "- Permiten a los programadores reutilizar código, evitando la necesidad de escribir todo desde cero.\n",
    "- Facilitan la resolución de problemas complejos al proporcionar soluciones probadas y optimizadas.\n"
   ]
  },
  {
   "cell_type": "code",
   "execution_count": 2,
   "id": "8853543b-d69b-4ca4-9e5a-81df9ec73d88",
   "metadata": {},
   "outputs": [
    {
     "name": "stdout",
     "output_type": "stream",
     "text": [
      "2024-02-27 15:23:23.325900\n"
     ]
    }
   ],
   "source": [
    "import datetime\n",
    "\n",
    "fecha_actual = datetime.datetime.now()\n",
    "\n",
    "print(fecha_actual)"
   ]
  },
  {
   "cell_type": "markdown",
   "id": "59bf81d9-173a-4891-8267-ad703ef88ff7",
   "metadata": {},
   "source": [
    "- Las librerías son pilares fundamentales en el desarrollo de software, ya que permiten a los desarrolladores aprovechar soluciones existentes para resolver problemas.\n",
    "- La comunidad de código abierto ha generado una amplia variedad de librerías disponibles para una amplia gama de tareas, lo que hace que la programación sea más accesible y eficiente.\n"
   ]
  },
  {
   "cell_type": "markdown",
   "id": "4a05f4e3-da06-4ec4-9d80-b0f3776f94b4",
   "metadata": {},
   "source": [
    "### Librerías para el Análisis de Datos \n",
    "\n",
    "Éstas son herramientas predefinidas en Python que ofrecen funcionalidades específicas para la manipulación, procesamiento y visualización de datos. Son esenciales para la gestión eficiente de grandes volúmenes de datos en proyectos de análisis y ciencia de datos.\n",
    "\n",
    "**PANDAS**:\n",
    "Utilizada principalmente para manipular y analizar datos en forma de estructuras de datos tabulares. Pandas puede cargar datos desde archivos CSV, Excel, bases de datos SQL, entre otros, y convertirlos en DataFrames para su manipulación.\n",
    "\n",
    "Manipulación de Datos:\n",
    "- Filtrado y Selección: Permite seleccionar datos basados en condiciones específicas.\n",
    "- Modificación y Limpieza: Ofrece métodos para cambiar valores, eliminar datos nulos o duplicados.\n",
    "- Agregación y Agrupación: Permite calcular estadísticas resumidas para grupos de datos.\n",
    "\n",
    "Visualización de Datos:\n",
    "- Aunque Pandas en sí no es una librería de visualización, puede integrarse fácilmente con librerías como Matplotlib para crear gráficos y visualizaciones a partir de los datos en DataFrames.\n",
    "\n"
   ]
  },
  {
   "cell_type": "code",
   "execution_count": 1,
   "id": "97b95ca6-fbb8-46d4-ade8-d17b200d0fb8",
   "metadata": {},
   "outputs": [
    {
     "data": {
      "text/html": [
       "<div>\n",
       "<style scoped>\n",
       "    .dataframe tbody tr th:only-of-type {\n",
       "        vertical-align: middle;\n",
       "    }\n",
       "\n",
       "    .dataframe tbody tr th {\n",
       "        vertical-align: top;\n",
       "    }\n",
       "\n",
       "    .dataframe thead th {\n",
       "        text-align: right;\n",
       "    }\n",
       "</style>\n",
       "<table border=\"1\" class=\"dataframe\">\n",
       "  <thead>\n",
       "    <tr style=\"text-align: right;\">\n",
       "      <th></th>\n",
       "      <th>Año</th>\n",
       "      <th>Mes</th>\n",
       "      <th>Moneda</th>\n",
       "      <th>Partida</th>\n",
       "      <th>Nombre Partida</th>\n",
       "      <th>Subtítulo</th>\n",
       "      <th>Nombre Subtítulo</th>\n",
       "      <th>Ejecución de OCTUBRE</th>\n",
       "      <th>Ejecución a OCTUBRE</th>\n",
       "    </tr>\n",
       "  </thead>\n",
       "  <tbody>\n",
       "    <tr>\n",
       "      <th>0</th>\n",
       "      <td>2023</td>\n",
       "      <td>Octubre</td>\n",
       "      <td>DOLARES</td>\n",
       "      <td>6</td>\n",
       "      <td>MINISTERIO DE RELACIONES EXTERIORES</td>\n",
       "      <td>8</td>\n",
       "      <td>OTROS INGRESOS CORRIENTES</td>\n",
       "      <td>-17</td>\n",
       "      <td>864</td>\n",
       "    </tr>\n",
       "    <tr>\n",
       "      <th>1</th>\n",
       "      <td>2023</td>\n",
       "      <td>Octubre</td>\n",
       "      <td>DOLARES</td>\n",
       "      <td>6</td>\n",
       "      <td>MINISTERIO DE RELACIONES EXTERIORES</td>\n",
       "      <td>9</td>\n",
       "      <td>APORTE FISCAL</td>\n",
       "      <td>17.965</td>\n",
       "      <td>142.752</td>\n",
       "    </tr>\n",
       "    <tr>\n",
       "      <th>2</th>\n",
       "      <td>2023</td>\n",
       "      <td>Octubre</td>\n",
       "      <td>DOLARES</td>\n",
       "      <td>6</td>\n",
       "      <td>MINISTERIO DE RELACIONES EXTERIORES</td>\n",
       "      <td>11</td>\n",
       "      <td>VENTA DE ACTIVOS FINANCIEROS</td>\n",
       "      <td>681</td>\n",
       "      <td>5.675</td>\n",
       "    </tr>\n",
       "    <tr>\n",
       "      <th>3</th>\n",
       "      <td>2023</td>\n",
       "      <td>Octubre</td>\n",
       "      <td>DOLARES</td>\n",
       "      <td>6</td>\n",
       "      <td>MINISTERIO DE RELACIONES EXTERIORES</td>\n",
       "      <td>21</td>\n",
       "      <td>GASTOS EN PERSONAL</td>\n",
       "      <td>7.537</td>\n",
       "      <td>74.990</td>\n",
       "    </tr>\n",
       "    <tr>\n",
       "      <th>4</th>\n",
       "      <td>2023</td>\n",
       "      <td>Octubre</td>\n",
       "      <td>DOLARES</td>\n",
       "      <td>6</td>\n",
       "      <td>MINISTERIO DE RELACIONES EXTERIORES</td>\n",
       "      <td>22</td>\n",
       "      <td>BIENES Y SERVICIOS DE CONSUMO</td>\n",
       "      <td>2.829</td>\n",
       "      <td>26.126</td>\n",
       "    </tr>\n",
       "    <tr>\n",
       "      <th>...</th>\n",
       "      <td>...</td>\n",
       "      <td>...</td>\n",
       "      <td>...</td>\n",
       "      <td>...</td>\n",
       "      <td>...</td>\n",
       "      <td>...</td>\n",
       "      <td>...</td>\n",
       "      <td>...</td>\n",
       "      <td>...</td>\n",
       "    </tr>\n",
       "    <tr>\n",
       "      <th>512</th>\n",
       "      <td>2023</td>\n",
       "      <td>Octubre</td>\n",
       "      <td>PESOS</td>\n",
       "      <td>50</td>\n",
       "      <td>TESORO PÚBLICO</td>\n",
       "      <td>27</td>\n",
       "      <td>APORTE FISCAL LIBRE</td>\n",
       "      <td>4.784.541.265</td>\n",
       "      <td>48.100.212.986</td>\n",
       "    </tr>\n",
       "    <tr>\n",
       "      <th>513</th>\n",
       "      <td>2023</td>\n",
       "      <td>Octubre</td>\n",
       "      <td>PESOS</td>\n",
       "      <td>50</td>\n",
       "      <td>TESORO PÚBLICO</td>\n",
       "      <td>28</td>\n",
       "      <td>APORTE FISCAL PARA SERVICIO DE LA DEUDA</td>\n",
       "      <td>33.716.229</td>\n",
       "      <td>263.027.007</td>\n",
       "    </tr>\n",
       "    <tr>\n",
       "      <th>514</th>\n",
       "      <td>2023</td>\n",
       "      <td>Octubre</td>\n",
       "      <td>PESOS</td>\n",
       "      <td>50</td>\n",
       "      <td>TESORO PÚBLICO</td>\n",
       "      <td>30</td>\n",
       "      <td>ADQUISICIÓN DE ACTIVOS FINANCIEROS</td>\n",
       "      <td>746.504.273</td>\n",
       "      <td>2.041.055.710</td>\n",
       "    </tr>\n",
       "    <tr>\n",
       "      <th>515</th>\n",
       "      <td>2023</td>\n",
       "      <td>Octubre</td>\n",
       "      <td>PESOS</td>\n",
       "      <td>50</td>\n",
       "      <td>TESORO PÚBLICO</td>\n",
       "      <td>33</td>\n",
       "      <td>TRANSFERENCIAS DE CAPITAL</td>\n",
       "      <td>86.329.108</td>\n",
       "      <td>993.079.233</td>\n",
       "    </tr>\n",
       "    <tr>\n",
       "      <th>516</th>\n",
       "      <td>2023</td>\n",
       "      <td>Octubre</td>\n",
       "      <td>PESOS</td>\n",
       "      <td>50</td>\n",
       "      <td>TESORO PÚBLICO</td>\n",
       "      <td>34</td>\n",
       "      <td>SERVICIO DE LA DEUDA</td>\n",
       "      <td>466.545.840</td>\n",
       "      <td>10.339.903.537</td>\n",
       "    </tr>\n",
       "  </tbody>\n",
       "</table>\n",
       "<p>517 rows × 9 columns</p>\n",
       "</div>"
      ],
      "text/plain": [
       "      Año      Mes   Moneda  Partida                       Nombre Partida  \\\n",
       "0    2023  Octubre  DOLARES        6  MINISTERIO DE RELACIONES EXTERIORES   \n",
       "1    2023  Octubre  DOLARES        6  MINISTERIO DE RELACIONES EXTERIORES   \n",
       "2    2023  Octubre  DOLARES        6  MINISTERIO DE RELACIONES EXTERIORES   \n",
       "3    2023  Octubre  DOLARES        6  MINISTERIO DE RELACIONES EXTERIORES   \n",
       "4    2023  Octubre  DOLARES        6  MINISTERIO DE RELACIONES EXTERIORES   \n",
       "..    ...      ...      ...      ...                                  ...   \n",
       "512  2023  Octubre    PESOS       50                       TESORO PÚBLICO   \n",
       "513  2023  Octubre    PESOS       50                       TESORO PÚBLICO   \n",
       "514  2023  Octubre    PESOS       50                       TESORO PÚBLICO   \n",
       "515  2023  Octubre    PESOS       50                       TESORO PÚBLICO   \n",
       "516  2023  Octubre    PESOS       50                       TESORO PÚBLICO   \n",
       "\n",
       "     Subtítulo                         Nombre Subtítulo Ejecución de OCTUBRE  \\\n",
       "0            8                OTROS INGRESOS CORRIENTES                  -17   \n",
       "1            9                            APORTE FISCAL               17.965   \n",
       "2           11             VENTA DE ACTIVOS FINANCIEROS                  681   \n",
       "3           21                       GASTOS EN PERSONAL                7.537   \n",
       "4           22            BIENES Y SERVICIOS DE CONSUMO                2.829   \n",
       "..         ...                                      ...                  ...   \n",
       "512         27                      APORTE FISCAL LIBRE        4.784.541.265   \n",
       "513         28  APORTE FISCAL PARA SERVICIO DE LA DEUDA           33.716.229   \n",
       "514         30       ADQUISICIÓN DE ACTIVOS FINANCIEROS          746.504.273   \n",
       "515         33                TRANSFERENCIAS DE CAPITAL           86.329.108   \n",
       "516         34                     SERVICIO DE LA DEUDA          466.545.840   \n",
       "\n",
       "    Ejecución a OCTUBRE  \n",
       "0                   864  \n",
       "1               142.752  \n",
       "2                 5.675  \n",
       "3                74.990  \n",
       "4                26.126  \n",
       "..                  ...  \n",
       "512      48.100.212.986  \n",
       "513         263.027.007  \n",
       "514       2.041.055.710  \n",
       "515         993.079.233  \n",
       "516      10.339.903.537  \n",
       "\n",
       "[517 rows x 9 columns]"
      ]
     },
     "execution_count": 1,
     "metadata": {},
     "output_type": "execute_result"
    }
   ],
   "source": [
    "import pandas as pd\n",
    "\n",
    "df = pd.read_csv(\"ejecucion-presupuestaria_nivel-partida_a-octubre-2023.csv\", sep=';')\n",
    "df"
   ]
  },
  {
   "cell_type": "markdown",
   "id": "7b1b4fa4-56ee-413f-8793-e0c6d18878e2",
   "metadata": {},
   "source": [
    "**NUMPY**: Fundamental en Python para realizar operaciones numéricas y trabajar con arreglos multidimensionales.\n",
    "\n",
    "*Arreglos Numéricos (Arrays)*:\n",
    "- Son estructuras de datos fundamentales en NumPy que permiten almacenar datos de manera eficiente en arreglos multidimensionales.\n",
    "- ndarray: Es el objeto principal de NumPy que representa estos arreglos multidimensionales.\n",
    "  \n",
    "*Creación de Arreglos*:\n",
    "***\n",
    "import numpy as np\n",
    "\n",
    "arr = np.array([1, 2, 3, 4, 5])\n",
    "\n",
    "print(arr)\n",
    "***\n",
    "\n",
    "- NumPy ofrece funciones para crear arreglos desde listas, tuplas u otras secuencias, así como arreglos predefinidos con valores específicos (cero, uno, etc.).\n",
    "- Forma (Shape): Representa las dimensiones del arreglo (filas, columnas, etc.).\n",
    "- Tipo de Datos (Data Type): Define el tipo de datos almacenado en el arreglo (enteros, flotantes, etc.).\n",
    "  \n",
    "*Funciones Matemáticas y Estadísticas*:\n",
    "- NumPy proporciona funciones para realizar operaciones matemáticas avanzadas (trigonometría, exponenciación, logaritmos, etc.) y estadísticas básicas (media, desviación estándar, etc.).\n"
   ]
  },
  {
   "cell_type": "code",
   "execution_count": 2,
   "id": "434208b9-7b13-4777-b80d-dbf5405e11c3",
   "metadata": {},
   "outputs": [
    {
     "name": "stdout",
     "output_type": "stream",
     "text": [
      "Suma: [5 7 9]\n",
      "Resta: [3 3 3]\n",
      "Producto: [ 4 10 18]\n",
      "División: [4.  2.5 2. ]\n",
      "Producto punto: 32\n"
     ]
    }
   ],
   "source": [
    "import numpy as np\n",
    "\n",
    "arr1 = np.array([1, 2, 3])\n",
    "arr2 = np.array([4, 5, 6])\n",
    "\n",
    "# Suma de arrays\n",
    "print(\"Suma:\", arr1 + arr2)\n",
    "\n",
    "# Resta de arrays\n",
    "print(\"Resta:\", arr2 - arr1)\n",
    "\n",
    "# Producto elemento a elemento\n",
    "print(\"Producto:\", arr1 * arr2)\n",
    "\n",
    "# División elemento a elemento\n",
    "print(\"División:\", arr2 / arr1)\n",
    "\n",
    "# Producto punto (producto escalar)\n",
    "print(\"Producto punto:\", np.dot(arr1, arr2))\n"
   ]
  },
  {
   "cell_type": "markdown",
   "id": "f644b7a0-cfaa-4d66-9422-9c26a09b758f",
   "metadata": {},
   "source": [
    "**Matplotlib** es una librería de trazado en Python que proporciona una amplia variedad de herramientas para crear visualizaciones estáticas, interactivas y animadas. Es una de las herramientas más utilizadas y potentes para la visualización de datos en Python y es altamente personalizable.\n"
   ]
  },
  {
   "cell_type": "markdown",
   "id": "3440195a-2fc5-4eef-b105-332dfe0126d3",
   "metadata": {},
   "source": [
    "**Gráfico de línea**\n",
    "- Se utiliza para mostrar la relación entre dos variables continuas.\n",
    "- Ideal para representar tendencias a lo largo del tiempo o secuencias ordenadas.\n",
    "- Útil para mostrar datos continuos, como series temporales, evolución de datos, etc."
   ]
  },
  {
   "cell_type": "code",
   "execution_count": 3,
   "id": "37c55007-8cf6-4161-8e1b-f236defcdd2c",
   "metadata": {},
   "outputs": [
    {
     "name": "stdout",
     "output_type": "stream",
     "text": [
      "Requirement already satisfied: matplotlib in /usr/local/lib/python3.9/site-packages (3.8.3)\n",
      "Requirement already satisfied: packaging>=20.0 in /usr/local/lib/python3.9/site-packages (from matplotlib) (23.2)\n",
      "Requirement already satisfied: cycler>=0.10 in /usr/local/lib/python3.9/site-packages (from matplotlib) (0.12.1)\n",
      "Requirement already satisfied: contourpy>=1.0.1 in /usr/local/lib/python3.9/site-packages (from matplotlib) (1.2.0)\n",
      "Requirement already satisfied: fonttools>=4.22.0 in /usr/local/lib/python3.9/site-packages (from matplotlib) (4.49.0)\n",
      "Requirement already satisfied: numpy<2,>=1.21 in /usr/local/lib/python3.9/site-packages (from matplotlib) (1.26.4)\n",
      "Requirement already satisfied: kiwisolver>=1.3.1 in /usr/local/lib/python3.9/site-packages (from matplotlib) (1.4.5)\n",
      "Requirement already satisfied: importlib-resources>=3.2.0 in /usr/local/lib/python3.9/site-packages (from matplotlib) (6.1.2)\n",
      "Requirement already satisfied: python-dateutil>=2.7 in /usr/local/lib/python3.9/site-packages (from matplotlib) (2.8.2)\n",
      "Requirement already satisfied: pillow>=8 in /usr/local/lib/python3.9/site-packages (from matplotlib) (10.2.0)\n",
      "Requirement already satisfied: pyparsing>=2.3.1 in /usr/local/lib/python3.9/site-packages (from matplotlib) (3.1.1)\n",
      "Requirement already satisfied: zipp>=3.1.0 in /usr/local/lib/python3.9/site-packages (from importlib-resources>=3.2.0->matplotlib) (3.17.0)\n",
      "Requirement already satisfied: six>=1.5 in /usr/local/lib/python3.9/site-packages (from python-dateutil>=2.7->matplotlib) (1.16.0)\n",
      "\u001b[33mWARNING: Running pip as the 'root' user can result in broken permissions and conflicting behaviour with the system package manager. It is recommended to use a virtual environment instead: https://pip.pypa.io/warnings/venv\u001b[0m\u001b[33m\n",
      "\u001b[0m\n",
      "\u001b[1m[\u001b[0m\u001b[34;49mnotice\u001b[0m\u001b[1;39;49m]\u001b[0m\u001b[39;49m A new release of pip is available: \u001b[0m\u001b[31;49m23.0.1\u001b[0m\u001b[39;49m -> \u001b[0m\u001b[32;49m24.0\u001b[0m\n",
      "\u001b[1m[\u001b[0m\u001b[34;49mnotice\u001b[0m\u001b[1;39;49m]\u001b[0m\u001b[39;49m To update, run: \u001b[0m\u001b[32;49mpip install --upgrade pip\u001b[0m\n"
     ]
    }
   ],
   "source": [
    "!pip install matplotlib"
   ]
  },
  {
   "cell_type": "code",
   "execution_count": 9,
   "id": "f776be7c-b69a-4506-bf88-87a49b134ac0",
   "metadata": {},
   "outputs": [
    {
     "data": {
      "image/png": "[encoded data removed]",
      "text/plain": [
       "<Figure size 640x480 with 1 Axes>"
      ]
     },
     "metadata": {},
     "output_type": "display_data"
    }
   ],
   "source": [
    "import matplotlib.pyplot as plt\n",
    "\n",
    "# Datos\n",
    "x = [1, 2, 3, 4, 5]\n",
    "y = [2, 3, 5, 7, 11]\n",
    "\n",
    "# Crear el gráfico de línea\n",
    "plt.plot(x, y)\n",
    "\n",
    "# Añadir etiquetas y título\n",
    "plt.xlabel('Eje X')\n",
    "plt.ylabel('Eje Y')\n",
    "plt.title('Gráfico de Línea')\n",
    "\n",
    "# Mostrar el gráfico\n",
    "plt.show()\n"
   ]
  },
  {
   "cell_type": "markdown",
   "id": "2ca94a1b-9237-423f-83e1-2dc970fd0817",
   "metadata": {},
   "source": [
    "**Gráfico de dispersión**\n",
    "\n",
    "- Se utiliza para mostrar la relación entre dos variables continuas.\n",
    "- Es útil para identificar patrones, correlaciones o agrupaciones entre los datos.\n",
    "- Se usa comúnmente para visualizar datos en ciencia de datos y análisis exploratorio."
   ]
  },
  {
   "cell_type": "code",
   "execution_count": 10,
   "id": "1d5b239f-0123-4543-b40f-2029800ef7c9",
   "metadata": {},
   "outputs": [
    {
     "data": {
      "image/png": "[encoded data removed]",
      "text/plain": [
       "<Figure size 640x480 with 1 Axes>"
      ]
     },
     "metadata": {},
     "output_type": "display_data"
    }
   ],
   "source": [
    "import matplotlib.pyplot as plt\n",
    "\n",
    "# Datos\n",
    "x = [1, 2, 3, 4, 5]\n",
    "y = [2, 3, 5, 7, 11]\n",
    "\n",
    "# Crear el gráfico de dispersión\n",
    "plt.scatter(x, y)\n",
    "\n",
    "# Añadir etiquetas y título\n",
    "plt.xlabel('Eje X')\n",
    "plt.ylabel('Eje Y')\n",
    "plt.title('Gráfico de Dispersión')\n",
    "\n",
    "# Mostrar el gráfico\n",
    "plt.show()\n"
   ]
  },
  {
   "cell_type": "markdown",
   "id": "705ae87f-f564-47db-83e0-a2f7706d5bdb",
   "metadata": {},
   "source": [
    "**Histograma**\n",
    "\n",
    "- Se utiliza para mostrar la distribución de una variable numérica.\n",
    "- Ideal para visualizar la frecuencia o densidad de los datos en diferentes intervalos.\n",
    "- Útil para identificar la forma de la distribución y detectar valores atípicos o patrones de comportamiento."
   ]
  },
  {
   "cell_type": "code",
   "execution_count": 11,
   "id": "9de95da2-74f5-423e-846c-f2299b6634dc",
   "metadata": {},
   "outputs": [
    {
     "data": {
      "image/png": "[encoded data removed]",
      "text/plain": [
       "<Figure size 640x480 with 1 Axes>"
      ]
     },
     "metadata": {},
     "output_type": "display_data"
    }
   ],
   "source": [
    "import matplotlib.pyplot as plt\n",
    "import numpy as np\n",
    "\n",
    "# Datos\n",
    "datos = np.random.randn(1000)\n",
    "\n",
    "# Crear el histograma\n",
    "plt.hist(datos, bins=30, color='skyblue', edgecolor='black')\n",
    "\n",
    "# Añadir etiquetas y título\n",
    "plt.xlabel('Valor')\n",
    "plt.ylabel('Frecuencia')\n",
    "plt.title('Histograma')\n",
    "\n",
    "# Mostrar el gráfico\n",
    "plt.show()\n"
   ]
  },
  {
   "cell_type": "markdown",
   "id": "c765ec7d-6760-454f-b5b4-07a8e70c26e2",
   "metadata": {},
   "source": [
    "**Diagrama de barras**\n",
    "\n",
    "- Se utiliza para comparar diferentes categorías o grupos.\n",
    "- Ideal para mostrar datos discretos o categóricos.\n",
    "- Útil para visualizar la frecuencia, proporción o comparación de valores entre diferentes grupos."
   ]
  },
  {
   "cell_type": "code",
   "execution_count": 13,
   "id": "9d54427d-9e6b-4219-8df8-1ebc52f5e56b",
   "metadata": {},
   "outputs": [
    {
     "data": {
      "image/png": "[encoded data removed]",
      "text/plain": [
       "<Figure size 640x480 with 1 Axes>"
      ]
     },
     "metadata": {},
     "output_type": "display_data"
    }
   ],
   "source": [
    "import matplotlib.pyplot as plt\n",
    "\n",
    "# Datos\n",
    "categorias = ['A', 'B', 'C', 'D', 'E']\n",
    "valores = [23, 45, 56, 78, 90]\n",
    "\n",
    "# Crear el diagrama de barras\n",
    "plt.bar(categorias, valores, color='green')\n",
    "\n",
    "# Añadir etiquetas y título\n",
    "plt.xlabel('Categorías')\n",
    "plt.ylabel('Valores')\n",
    "plt.title('Diagrama de Barras')\n",
    "\n",
    "# Mostrar el gráfico\n",
    "plt.show()\n"
   ]
  },
  {
   "cell_type": "code",
   "execution_count": null,
   "id": "06d31abd-f70b-4e19-9abe-0544d49b10b4",
   "metadata": {},
   "outputs": [],
   "source": []
  },
  {
   "cell_type": "markdown",
   "id": "0093a903-f992-46e7-8997-1ae8103e0fe7",
   "metadata": {},
   "source": [
    "**Seaborn** es una librería de visualización de datos en Python basada en Matplotlib. Está diseñada para crear visualizaciones atractivas y informativas con facilidad, proporcionando una interfaz de alto nivel para trabajar con estructuras de datos de tipo DataFrame, comúnmente utilizadas en pandas. Seaborn se utiliza principalmente para la creación de gráficos estadísticos, incluyendo gráficos de dispersión, histogramas, gráficos de barras, diagramas de caja y más.\n",
    "\n",
    "Algunas de las características principales de Seaborn incluyen:\n",
    "\n",
    "- Integración con estructuras de datos de pandas.\n",
    "- Estilos predefinidos y paletas de colores atractivas.\n",
    "- Funciones simplificadas para crear gráficos estadísticos complejos.\n",
    "- Soporte para trazar múltiples figuras y subgráficos.\n",
    "- Facilidad de personalización y ajuste fino de las visualizaciones."
   ]
  },
  {
   "cell_type": "code",
   "execution_count": 1,
   "id": "f3dd0f2b-7731-41f2-88b2-a8437d8a5e20",
   "metadata": {},
   "outputs": [
    {
     "name": "stdout",
     "output_type": "stream",
     "text": [
      "Requirement already satisfied: seaborn in /usr/local/lib/python3.9/site-packages (0.13.2)\n",
      "Requirement already satisfied: pandas>=1.2 in /usr/local/lib/python3.9/site-packages (from seaborn) (2.2.0)\n",
      "Requirement already satisfied: matplotlib!=3.6.1,>=3.4 in /usr/local/lib/python3.9/site-packages (from seaborn) (3.8.3)\n",
      "Requirement already satisfied: numpy!=1.24.0,>=1.20 in /usr/local/lib/python3.9/site-packages (from seaborn) (1.26.4)\n",
      "Requirement already satisfied: fonttools>=4.22.0 in /usr/local/lib/python3.9/site-packages (from matplotlib!=3.6.1,>=3.4->seaborn) (4.49.0)\n",
      "Requirement already satisfied: importlib-resources>=3.2.0 in /usr/local/lib/python3.9/site-packages (from matplotlib!=3.6.1,>=3.4->seaborn) (6.1.2)\n",
      "Requirement already satisfied: pillow>=8 in /usr/local/lib/python3.9/site-packages (from matplotlib!=3.6.1,>=3.4->seaborn) (10.2.0)\n",
      "Requirement already satisfied: cycler>=0.10 in /usr/local/lib/python3.9/site-packages (from matplotlib!=3.6.1,>=3.4->seaborn) (0.12.1)\n",
      "Requirement already satisfied: packaging>=20.0 in /usr/local/lib/python3.9/site-packages (from matplotlib!=3.6.1,>=3.4->seaborn) (23.2)\n",
      "Requirement already satisfied: kiwisolver>=1.3.1 in /usr/local/lib/python3.9/site-packages (from matplotlib!=3.6.1,>=3.4->seaborn) (1.4.5)\n",
      "Requirement already satisfied: pyparsing>=2.3.1 in /usr/local/lib/python3.9/site-packages (from matplotlib!=3.6.1,>=3.4->seaborn) (3.1.1)\n",
      "Requirement already satisfied: contourpy>=1.0.1 in /usr/local/lib/python3.9/site-packages (from matplotlib!=3.6.1,>=3.4->seaborn) (1.2.0)\n",
      "Requirement already satisfied: python-dateutil>=2.7 in /usr/local/lib/python3.9/site-packages (from matplotlib!=3.6.1,>=3.4->seaborn) (2.8.2)\n",
      "Requirement already satisfied: pytz>=2020.1 in /usr/local/lib/python3.9/site-packages (from pandas>=1.2->seaborn) (2024.1)\n",
      "Requirement already satisfied: tzdata>=2022.7 in /usr/local/lib/python3.9/site-packages (from pandas>=1.2->seaborn) (2024.1)\n",
      "Requirement already satisfied: zipp>=3.1.0 in /usr/local/lib/python3.9/site-packages (from importlib-resources>=3.2.0->matplotlib!=3.6.1,>=3.4->seaborn) (3.17.0)\n",
      "Requirement already satisfied: six>=1.5 in /usr/local/lib/python3.9/site-packages (from python-dateutil>=2.7->matplotlib!=3.6.1,>=3.4->seaborn) (1.16.0)\n",
      "\u001b[33mWARNING: Running pip as the 'root' user can result in broken permissions and conflicting behaviour with the system package manager. It is recommended to use a virtual environment instead: https://pip.pypa.io/warnings/venv\u001b[0m\u001b[33m\n",
      "\u001b[0m\n",
      "\u001b[1m[\u001b[0m\u001b[34;49mnotice\u001b[0m\u001b[1;39;49m]\u001b[0m\u001b[39;49m A new release of pip is available: \u001b[0m\u001b[31;49m23.0.1\u001b[0m\u001b[39;49m -> \u001b[0m\u001b[32;49m24.0\u001b[0m\n",
      "\u001b[1m[\u001b[0m\u001b[34;49mnotice\u001b[0m\u001b[1;39;49m]\u001b[0m\u001b[39;49m To update, run: \u001b[0m\u001b[32;49mpip install --upgrade pip\u001b[0m\n"
     ]
    }
   ],
   "source": [
    "!pip install seaborn"
   ]
  },
  {
   "cell_type": "code",
   "execution_count": 2,
   "id": "7370f141-f5e6-494c-87e1-607e622b5044",
   "metadata": {},
   "outputs": [
    {
     "data": {
      "image/png": "[encoded data removed]",
      "text/plain": [
       "<Figure size 640x480 with 1 Axes>"
      ]
     },
     "metadata": {},
     "output_type": "display_data"
    }
   ],
   "source": [
    "import seaborn as sns\n",
    "import matplotlib.pyplot as plt\n",
    "import numpy as np\n",
    "\n",
    "# Generar datos aleatorios con distribución normal\n",
    "datos = np.random.randn(1000)\n",
    "\n",
    "# Configurar el estilo de Seaborn\n",
    "sns.set(style=\"whitegrid\")\n",
    "\n",
    "# Crear el histograma utilizando Seaborn\n",
    "sns.histplot(datos, kde=True, color=\"skyblue\")\n",
    "\n",
    "# Agregar etiquetas y título\n",
    "plt.xlabel(\"Valor\")\n",
    "plt.ylabel(\"Frecuencia\")\n",
    "plt.title(\"Histograma de datos aleatorios\")\n",
    "\n",
    "# Mostrar el gráfico\n",
    "plt.show()\n"
   ]
  },
  {
   "cell_type": "code",
   "execution_count": null,
   "id": "c666a81e-13ea-41bf-9ea8-93173cdcc392",
   "metadata": {},
   "outputs": [],
   "source": []
  },
  {
   "cell_type": "code",
   "execution_count": null,
   "id": "540d12d0-fee6-4539-bb53-c2f3a00f8f27",
   "metadata": {},
   "outputs": [],
   "source": []
  },
  {
   "cell_type": "code",
   "execution_count": null,
   "id": "271ed25c-6821-45ce-aa1a-16cabaa98e43",
   "metadata": {},
   "outputs": [],
   "source": []
  }
 ],
 "metadata": {
  "kernelspec": {
   "display_name": "Python 3 (ipykernel)",
   "language": "python",
   "name": "python3"
  },
  "language_info": {
   "codemirror_mode": {
    "name": "ipython",
    "version": 3
   },
   "file_extension": ".py",
   "mimetype": "text/x-python",
   "name": "python",
   "nbconvert_exporter": "python",
   "pygments_lexer": "ipython3",
   "version": "3.9.18"
  }
 },
 "nbformat": 4,
 "nbformat_minor": 5
}
