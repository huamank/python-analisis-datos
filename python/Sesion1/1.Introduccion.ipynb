{
 "cells": [
  {
   "attachments": {},
   "cell_type": "markdown",
   "id": "268f8c25",
   "metadata": {},
   "source": [
    "# Indice\n",
    "- [Python](#0)\n",
    "- [Indentación](#1)\n",
    "- [Comentarios](#2)\n",
    "- [Variables](#3)\n",
    "- [Tipos de datos](#4)\n",
    "- [Control de flujo](#5)\n",
    "- [Operadores](#6)\n",
    "- [Funciones](#7)\n",
    "\n",
    "\n",
    "\n"
   ]
  },
  {
   "attachments": {},
   "cell_type": "markdown",
   "id": "8ac3a846",
   "metadata": {},
   "source": [
    "<a id= \"0\"></a> <br>\n",
    "### Python\n",
    "\n",
    "¿Qué es Python?\n",
    "- Python es un lenguaje de programación de propósito general que se ejecuta en casi todas las arquitecturas de sistemas y se puede utilizar para una amplia gama de aplicaciones en diferentes campos, desde el desarrollo web hasta el aprendizaje automático.\n",
    "\n",
    "Se utiliza para:\n",
    "\n",
    "- Desarrollo web (lado del servidor)\n",
    "- Desarrollo de software\n",
    "- matemáticas\n",
    "- secuencias de comandos del sistema\n",
    "\n",
    "¿Qué puede hacer Python?\n",
    "- Python se puede usar en un servidor para crear aplicaciones web.\n",
    "- Python se puede usar junto con el software para crear flujos de trabajo.\n",
    "- Python puede conectarse a sistemas de bases de datos. También puede leer y modificar archivos.\n",
    "- Python se puede usar para manejar big data y realizar operaciones matemáticas complejas.\n",
    "- Python se puede utilizar para la creación rápida de prototipos o para el desarrollo de software listo para la producción.\n",
    "\n",
    "¿Por qué Python?\n",
    "- Python funciona en diferentes plataformas (Windows, Mac, Linux, Raspberry Pi, etc.).\n",
    "- Python tiene una sintaxis simple similar al idioma inglés.\n",
    "- Python tiene una sintaxis que permite a los desarrolladores escribir programas con menos líneas que otros lenguajes de programación.\n",
    "- Python se ejecuta en un sistema de interpretación, lo que significa que el código se puede ejecutar tan pronto como se escribe. Esto significa que la creación de prototipos puede ser muy rápida.\n",
    "- Python se puede tratar de forma procesal, orientada a objetos o funcional.\n"
   ]
  },
  {
   "cell_type": "markdown",
   "id": "ad7a4757",
   "metadata": {},
   "source": [
    "<a id= \"1\"></a> <br>\n",
    "### Indentación\n",
    "Python utiliza la indentación para delimitar la estructura permitiendo establecer bloques de código. No existen comandos para finalizar las líneas ni llaves con las que delimitar el código. Los únicos delimitadores existentes son los dos puntos ( : ) y la indentación del código."
   ]
  },
  {
   "cell_type": "code",
   "execution_count": 1,
   "id": "39036d99",
   "metadata": {},
   "outputs": [
    {
     "name": "stdout",
     "output_type": "stream",
     "text": [
      "Es falso\n",
      "¡FIN!\n"
     ]
    }
   ],
   "source": [
    "v1 = 5\n",
    "\n",
    "if v1 == '6':\n",
    "    print('Es Verdadero')\n",
    "else:\n",
    "    print('Es falso')\n",
    "\n",
    "print('¡FIN!')"
   ]
  },
  {
   "cell_type": "code",
   "execution_count": 2,
   "id": "029ce420",
   "metadata": {},
   "outputs": [
    {
     "ename": "IndentationError",
     "evalue": "expected an indented block (3318833062.py, line 5)",
     "output_type": "error",
     "traceback": [
      "\u001b[0;36m  Cell \u001b[0;32mIn[2], line 5\u001b[0;36m\u001b[0m\n\u001b[0;31m    print('Es Verdadero')\u001b[0m\n\u001b[0m    ^\u001b[0m\n\u001b[0;31mIndentationError\u001b[0m\u001b[0;31m:\u001b[0m expected an indented block\n"
     ]
    }
   ],
   "source": [
    "# Incorrect !\n",
    "v1 = 5\n",
    "\n",
    "if v1 == '6':\n",
    "print('Es Verdadero')\n",
    "else:\n",
    "    print('Es falso')\n",
    "\n",
    "print('¡FIN!')"
   ]
  },
  {
   "cell_type": "markdown",
   "id": "e75472e5",
   "metadata": {},
   "source": [
    "<a id= \"2\"></a> <br>\n",
    "### Comentarios\n",
    "Los comentarios se pueden usar para explicar el codigo de python de manera mas legible\n"
   ]
  },
  {
   "cell_type": "code",
   "execution_count": 3,
   "id": "616221d4",
   "metadata": {},
   "outputs": [
    {
     "name": "stdout",
     "output_type": "stream",
     "text": [
      "Es falso\n",
      "¡FIN!\n"
     ]
    }
   ],
   "source": [
    "\n",
    "# This is a comment line\n",
    "# compare variable v1\n",
    "\n",
    "v1 = 5\n",
    "\n",
    "if v1 == '6':\n",
    "    print('Es Verdadero')\n",
    "else:\n",
    "    print('Es falso')\n",
    "\n",
    "print('¡FIN!')"
   ]
  },
  {
   "cell_type": "markdown",
   "id": "dd828fe9",
   "metadata": {},
   "source": [
    "<a id= \"3\"></a> <br>\n",
    "### Variables\n",
    "En python una variable se crea en el momento en que le asigna un valor por primera vez."
   ]
  },
  {
   "cell_type": "code",
   "execution_count": 4,
   "id": "e8882152",
   "metadata": {},
   "outputs": [
    {
     "name": "stdout",
     "output_type": "stream",
     "text": [
      "5\n",
      "Datapath\n"
     ]
    }
   ],
   "source": [
    "a = 5 # Int\n",
    "b = \"Datapath\" # Str\n",
    "print(a)\n",
    "print(b)"
   ]
  },
  {
   "cell_type": "code",
   "execution_count": 5,
   "id": "bf9f621d",
   "metadata": {},
   "outputs": [],
   "source": [
    "a = str(4)    # '4'\n",
    "b = int(5)    # 5\n",
    "c = float(2)  # 2.0"
   ]
  },
  {
   "cell_type": "code",
   "execution_count": 6,
   "id": "e3e4c9bb",
   "metadata": {},
   "outputs": [
    {
     "name": "stdout",
     "output_type": "stream",
     "text": [
      "<class 'str'>\n",
      "<class 'int'>\n",
      "<class 'float'>\n"
     ]
    }
   ],
   "source": [
    "print(type(a))\n",
    "print(type(b))\n",
    "print(type(c))"
   ]
  },
  {
   "cell_type": "code",
   "execution_count": 7,
   "id": "bad41b14",
   "metadata": {},
   "outputs": [],
   "source": [
    "x, y, z = \"Orange\", \"Banana\", \"Cherry\""
   ]
  },
  {
   "cell_type": "code",
   "execution_count": 8,
   "id": "17ef8b7d",
   "metadata": {},
   "outputs": [
    {
     "name": "stdout",
     "output_type": "stream",
     "text": [
      "Python es Asombroso\n"
     ]
    }
   ],
   "source": [
    "# Globals\n",
    "x = \"Asombroso\"\n",
    "\n",
    "def myfunc():\n",
    "    print(\"Python es \" + x)\n",
    "\n",
    "myfunc()"
   ]
  },
  {
   "cell_type": "code",
   "execution_count": 10,
   "id": "4561cc42",
   "metadata": {},
   "outputs": [
    {
     "name": "stdout",
     "output_type": "stream",
     "text": [
      "Python is awesome\n",
      "Hola\n"
     ]
    }
   ],
   "source": [
    "# Locals\n",
    "x = \"Hola\"\n",
    "\n",
    "def mi_funcion():\n",
    "    x = \"awesome\"\n",
    "    print(\"Python is \" + x)\n",
    "\n",
    "mi_funcion()\n",
    "print(x)"
   ]
  },
  {
   "cell_type": "markdown",
   "id": "da544b2a",
   "metadata": {},
   "source": [
    "<a id= \"4\"></a> <br>\n",
    "### Tipos de datos\n",
    "\n",
    "Las variables pueden almacenar datos de diferentes tipos, y diferentes tipos pueden hacer cosas diferentes.\n",
    "Los tipos de datos en python son los siguientes:\n",
    "\n",
    "* String Data Type\n",
    "* Set Data Type\n",
    "* Numbers Data Type\n",
    "* List Data Type\n",
    "* Dictionary Data Type\n",
    "* Tuple Data Type"
   ]
  },
  {
   "cell_type": "markdown",
   "id": "ff8ca210",
   "metadata": {},
   "source": [
    "#### String Data Type\n",
    "Las cadenas se identifican como un conjunto contiguo de caracteres representados entre comillas. Python permite pares de comillas simples o dobles. Las cadenas son un tipo de datos de secuencia inmutable, es decir, cada vez que se realiza un cambio en una cadena, se crea un objeto de cadena completamente nuevo."
   ]
  },
  {
   "cell_type": "code",
   "execution_count": null,
   "id": "7ef4f422",
   "metadata": {},
   "outputs": [],
   "source": [
    "a_str = 'Hello World'\n",
    "print(a_str) #la salida sera. Hello World\n",
    "print(a_str[0]) #la salida sera. H\n",
    "print(a_str[0:5]) #la salida sera. Hello"
   ]
  },
  {
   "cell_type": "markdown",
   "id": "961b634d",
   "metadata": {},
   "source": [
    "#### Set Data Type\n",
    "Los conjuntos son colecciones desordenadas de objetos únicos, hay dos tipos de conjuntos:"
   ]
  },
  {
   "cell_type": "code",
   "execution_count": 11,
   "id": "b327062d",
   "metadata": {},
   "outputs": [
    {
     "name": "stdout",
     "output_type": "stream",
     "text": [
      "{'banana', 'pear', 'apple', 'orange'}\n",
      "{'b', 'r', 'a', 'c', 'd'}\n",
      "{'b', 'r', 'a', 'c', 'z', 'd'}\n"
     ]
    }
   ],
   "source": [
    "# 1. Sets: son mutables y se pueden agregar nuevos elementos una vez que se definen los conjuntos\n",
    "\n",
    "fruits = {'apple', 'orange', 'apple', 'pear', 'orange', 'banana'}\n",
    "print(fruits) # duplicates will be removed\n",
    "\n",
    "a = set('abracadabra')\n",
    "print(a) # unique letters in a\n",
    "\n",
    "a.add('z')\n",
    "print(a)"
   ]
  },
  {
   "cell_type": "code",
   "execution_count": 12,
   "id": "b974e174",
   "metadata": {},
   "outputs": [
    {
     "name": "stdout",
     "output_type": "stream",
     "text": [
      "frozenset({'a', 'g', 'd', 's', 'f'})\n",
      "frozenset({'Freiburg', 'Basel', 'Frankfurt'})\n"
     ]
    }
   ],
   "source": [
    "# 2. Frozen Sets: son inmutables y no se pueden agregar nuevos elementos después de su definición.\n",
    "\n",
    "b = frozenset('asdfagsa')\n",
    "print(b)\n",
    "\n",
    "cities = frozenset([\"Frankfurt\", \"Basel\",\"Freiburg\"])\n",
    "print(cities)\n"
   ]
  },
  {
   "cell_type": "markdown",
   "id": "32d51960",
   "metadata": {},
   "source": [
    "#### Numbers Data Type"
   ]
  },
  {
   "cell_type": "code",
   "execution_count": null,
   "id": "2b0af72c",
   "metadata": {},
   "outputs": [],
   "source": [
    "int_num = 10 #int value\n",
    "float_num = 10.2 #float value\n",
    "complex_num = 3.14j #complex value"
   ]
  },
  {
   "cell_type": "markdown",
   "id": "d047ca8d",
   "metadata": {},
   "source": [
    "### Lists Data Type\n",
    "Las listas de Python son uno de los tipos de datos más versátiles que nos permiten trabajar con múltiples elementos a la vez.\n",
    "\n",
    "En Python, se crea una lista colocando elementos entre corchetes [ ], separados por comas."
   ]
  },
  {
   "cell_type": "code",
   "execution_count": null,
   "id": "618b5e1a",
   "metadata": {},
   "outputs": [],
   "source": [
    "# Lista de enteros\n",
    "my_list = [3, 5, 2]\n",
    "\n",
    "# Lista vacia\n",
    "my_list = []\n",
    "\n",
    "# Lista mixta\n",
    "my_list = [3, \"Hello\", 44.4]\n",
    "\n",
    "# Lista anidada\n",
    "my_list = [\"apple\", [3, 7, 8], ['x']]"
   ]
  },
  {
   "cell_type": "markdown",
   "id": "38e2c3be",
   "metadata": {},
   "source": [
    "Podemos usar el operador de índice [ ] para acceder a un elemento en una lista. En Python, los índices comienzan en 0. Entonces, una lista que tiene 5 elementos tendrá un índice de 0 a 4."
   ]
  },
  {
   "cell_type": "code",
   "execution_count": null,
   "id": "5dd7e741",
   "metadata": {},
   "outputs": [],
   "source": [
    "my_list = ['x', 'l', 'm', 'a']\n",
    "\n",
    "# First element\n",
    "print(my_list[0])  \n",
    "\n",
    "# Third element\n",
    "print(my_list[2])  \n",
    "\n",
    "# Nested list\n",
    "n_list = [\"Happy\", [6, 2, 1, 8]]\n",
    "\n",
    "# Nested index\n",
    "print(n_list[0][1])\n",
    "\n",
    "print(n_list[1][3])\n"
   ]
  },
  {
   "cell_type": "code",
   "execution_count": null,
   "id": "a9333a0b",
   "metadata": {},
   "outputs": [],
   "source": [
    "# Incorrect!\n",
    "print(my_list[4.0])"
   ]
  },
  {
   "cell_type": "code",
   "execution_count": null,
   "id": "6a4e430b",
   "metadata": {},
   "outputs": [],
   "source": [
    "\n",
    "# -1 Last element\n",
    "\n",
    "print(my_list[-1])\n",
    "\n",
    "print(my_list[-4])"
   ]
  },
  {
   "cell_type": "code",
   "execution_count": null,
   "id": "baf82c85",
   "metadata": {},
   "outputs": [],
   "source": [
    "# We can access a range of elements in a list using the operator :\n",
    "\n",
    "my_list = ['a','b','c','d','e','f','g','h','i']\n",
    "\n",
    "# elements from 2 to 4\n",
    "print(my_list[2:5])\n",
    "\n",
    "# elements from index 5 to end\n",
    "print(my_list[5:])\n",
    "\n",
    "# elements beginning to end\n",
    "print(my_list[:])"
   ]
  },
  {
   "cell_type": "code",
   "execution_count": null,
   "id": "3bdfa77b",
   "metadata": {},
   "outputs": [],
   "source": [
    "# Correction of some value in a list\n",
    "my_list = [2, 4, 6, 8]\n",
    "\n",
    "# Change first element  \n",
    "my_list[0] = 1            \n",
    "\n",
    "print(my_list)\n",
    "\n",
    "# Change elements\n",
    "my_list[1:4] = [3, 5, 7]  \n",
    "\n",
    "print(my_list)  "
   ]
  },
  {
   "cell_type": "code",
   "execution_count": null,
   "id": "80ad53c3",
   "metadata": {},
   "outputs": [],
   "source": [
    "# use add and extend\n",
    "my_list = [1, 3, 5]\n",
    "\n",
    "my_list.append(7)\n",
    "\n",
    "print(my_list)\n",
    "\n",
    "my_list.extend([9, 11, 13])\n",
    "\n",
    "print(my_list)"
   ]
  },
  {
   "cell_type": "code",
   "execution_count": null,
   "id": "0d414f4e",
   "metadata": {},
   "outputs": [],
   "source": [
    "# Iterate a list\n",
    "for fruit in ['apple','banana','mango']:\n",
    "    print(\"I like\",fruit)"
   ]
  },
  {
   "cell_type": "markdown",
   "id": "1fae3536",
   "metadata": {},
   "source": [
    "#### Tuple Data Type\n",
    "Una tupla en Python es similar a una lista. La diferencia entre los dos es que no podemos cambiar los elementos de una tupla una vez asignada, mientras que pen una lista si lo podemos hacer."
   ]
  },
  {
   "cell_type": "code",
   "execution_count": null,
   "id": "b2d76d22",
   "metadata": {},
   "outputs": [],
   "source": [
    "# Diferentes tipos de tuplas\n",
    "\n",
    "# Tuple Empty\n",
    "my_tuple = ()\n",
    "print(my_tuple)\n",
    "\n",
    "# Tuple int\n",
    "my_tuple = (3, 2, 5)\n",
    "print(my_tuple)\n",
    "\n",
    "# Mixed Tuple\n",
    "my_tuple = (1, \"Hello\", 5.6)\n",
    "print(my_tuple)\n",
    "\n",
    "# Nested Tuple\n",
    "my_tuple = (\"apple\", [2, 5, 7], (5, 8, 1))\n",
    "print(my_tuple)"
   ]
  },
  {
   "cell_type": "code",
   "execution_count": null,
   "id": "125ad146",
   "metadata": {},
   "outputs": [],
   "source": [
    "my_tuple = (\"hello\")\n",
    "print(type(my_tuple))  # <class 'str'>\n",
    "\n",
    "# Tuple wiht one element\n",
    "my_tuple = (\"hello\",)\n",
    "print(type(my_tuple))  # <class 'tuple'>\n",
    "\n",
    "# Parenthesis is optional\n",
    "my_tuple = \"hello\",\n",
    "print(type(my_tuple))  # <class 'tuple'>"
   ]
  },
  {
   "cell_type": "code",
   "execution_count": null,
   "id": "8ffb6d13",
   "metadata": {},
   "outputs": [],
   "source": [
    "my_tuple = ('p','e','r','m','i','t')\n",
    "\n",
    "print(my_tuple[0])   # 'p' \n",
    "print(my_tuple[5])   # 't'"
   ]
  },
  {
   "cell_type": "code",
   "execution_count": null,
   "id": "41b9d501",
   "metadata": {},
   "outputs": [],
   "source": [
    "n_tuple = (\"mouse\", [8, 4, 6], (1, 2, 3))\n",
    "\n",
    "print(n_tuple[0][3])       # 's'\n",
    "print(n_tuple[1][1])       # 4"
   ]
  },
  {
   "cell_type": "code",
   "execution_count": null,
   "id": "63e9ffa7",
   "metadata": {},
   "outputs": [],
   "source": [
    "print(my_tuple[1:4])"
   ]
  },
  {
   "cell_type": "code",
   "execution_count": null,
   "id": "a7b812f9",
   "metadata": {},
   "outputs": [],
   "source": [
    "# Iterate a Tuple\n",
    "for name in ('John', 'Kate'):\n",
    "    print(\"Hello\", name)"
   ]
  },
  {
   "cell_type": "markdown",
   "id": "2244230e",
   "metadata": {},
   "source": [
    "#### Dictionary Data Type\n",
    "El diccionario de Python es una colección desordenada de elementos. Cada elemento de un diccionario tiene un par clave/valor.\n",
    "\n",
    "Los diccionarios están optimizados para recuperar valores cuando se conoce la clave.\n",
    "\n",
    "Crear un diccionario es tan simple como colocar elementos entre llaves { } separados por comas.\n",
    "\n",
    "Un elemento tiene una clave y un valor correspondiente que se expresa como un par (clave: valor).\n",
    "\n",
    "Si bien los valores pueden ser de cualquier tipo de datos y pueden repetirse, las claves deben ser de tipo inmutable (cadena, número o tupla con elementos inmutables) y deben ser únicas.\n"
   ]
  },
  {
   "cell_type": "code",
   "execution_count": null,
   "id": "51de5126",
   "metadata": {},
   "outputs": [],
   "source": [
    "# Dictionary empty\n",
    "my_dict = {}\n",
    "\n",
    "# Dictionary with keys integer\n",
    "my_dict = {1: 'apple', 2: 'ball'}\n",
    "\n",
    "# Dictionary with mixed keys\n",
    "my_dict = {'name': 'John', 1: [2, 4, 3]}\n",
    "\n",
    "# use dict()\n",
    "my_dict = dict({1:'apple', 2:'ball'})\n"
   ]
  },
  {
   "cell_type": "code",
   "execution_count": null,
   "id": "664ab3f9",
   "metadata": {},
   "outputs": [],
   "source": [
    "\n",
    "my_dict = {'name': 'Jack', 'age': 26}\n",
    "\n",
    "# Output: Jack\n",
    "print(my_dict['name'])\n",
    "\n",
    "# Output: 26\n",
    "print(my_dict.get('age'))\n"
   ]
  },
  {
   "cell_type": "code",
   "execution_count": null,
   "id": "75c9ba35",
   "metadata": {},
   "outputs": [],
   "source": [
    "print(my_dict.get('address'))"
   ]
  },
  {
   "cell_type": "code",
   "execution_count": null,
   "id": "287e48b0",
   "metadata": {},
   "outputs": [],
   "source": [
    "\n",
    "print(my_dict['address'])"
   ]
  },
  {
   "cell_type": "code",
   "execution_count": null,
   "id": "2c4eaced",
   "metadata": {},
   "outputs": [],
   "source": [
    "# Change and add elements \n",
    "my_dict = {'name': 'Jack', 'age': 26}\n",
    "\n",
    "# Update value\n",
    "my_dict['age'] = 27\n",
    "\n",
    "#Output: {'age': 27, 'name': 'Jack'}\n",
    "print(my_dict)\n",
    "\n",
    "# add elements\n",
    "my_dict['address'] = 'Downtown'\n",
    "\n",
    "# Output: {'address': 'Downtown', 'age': 27, 'name': 'Jack'}\n",
    "print(my_dict)"
   ]
  },
  {
   "cell_type": "code",
   "execution_count": null,
   "id": "3ec9ee70",
   "metadata": {},
   "outputs": [],
   "source": [
    "# # Iterate a Dictionary\n",
    "\n",
    "marks = {}.fromkeys(['Math', 'English', 'Science'], 0)\n",
    "\n",
    "# Output: {'English': 0, 'Math': 0, 'Science': 0}\n",
    "print(marks)\n",
    "\n",
    "for item in marks.items():\n",
    "    print(item)\n",
    "\n",
    "# Output: ['English', 'Math', 'Science']\n",
    "print(list(sorted(marks.keys())))"
   ]
  },
  {
   "cell_type": "markdown",
   "id": "9649c7a5",
   "metadata": {},
   "source": [
    "<a id= \"5\"></a> <br>\n",
    "### Control de flujo\n",
    "\n"
   ]
  },
  {
   "cell_type": "code",
   "execution_count": null,
   "id": "57aa015a",
   "metadata": {},
   "outputs": [],
   "source": [
    "#if...else\n",
    "num = 3\n",
    "if num > 0:\n",
    "    print(num, \"is a positive number.\")\n",
    "print(\"This is always printed.\")\n",
    "\n",
    "num = -1\n",
    "if num > 0:\n",
    "    print(num, \"is a positive number.\")\n",
    "print(\"This is also always printed.\")"
   ]
  },
  {
   "cell_type": "code",
   "execution_count": null,
   "id": "bac5b7f7",
   "metadata": {},
   "outputs": [],
   "source": [
    "num = float(input(\"Enter a number: \"))\n",
    "if num >= 0:\n",
    "    if num == 0:\n",
    "        print(\"Zero\")\n",
    "    else:\n",
    "        print(\"Positive number\")\n",
    "else:\n",
    "    print(\"Negative number\")"
   ]
  },
  {
   "cell_type": "code",
   "execution_count": null,
   "id": "0e637c2a",
   "metadata": {},
   "outputs": [],
   "source": [
    "# for\n",
    "numbers = [6, 5, 3, 8, 4, 2, 5, 4, 11]\n",
    "\n",
    "# variable sum\n",
    "sum = 0\n",
    "\n",
    "# iterate the list\n",
    "for val in numbers:\n",
    "    sum = sum+val\n",
    "\n",
    "print(\"The sum is\", sum)"
   ]
  },
  {
   "cell_type": "code",
   "execution_count": null,
   "id": "5e226946",
   "metadata": {},
   "outputs": [],
   "source": [
    "# While\n",
    "\n",
    "n = 10\n",
    "\n",
    "# initialize the counter and the variable sum\n",
    "sum = 0\n",
    "i = 1\n",
    "\n",
    "while i <= n:\n",
    "    sum = sum + i\n",
    "    i = i+1    # update counter\n",
    "\n",
    "# print sum\n",
    "print(\"The sum is\", sum)"
   ]
  },
  {
   "cell_type": "code",
   "execution_count": null,
   "id": "3f052bb3",
   "metadata": {},
   "outputs": [],
   "source": [
    "#break\n",
    "for val in \"string\":\n",
    "    if val == \"i\":\n",
    "        break\n",
    "    print(val)\n",
    "\n",
    "print(\"The end\")"
   ]
  },
  {
   "cell_type": "code",
   "execution_count": null,
   "id": "c13319bc",
   "metadata": {},
   "outputs": [],
   "source": [
    "# pass\n",
    "sequence = {'p', 'a', 's', 's'}\n",
    "for val in sequence:\n",
    "    pass\n",
    "    print(val)\n"
   ]
  },
  {
   "cell_type": "markdown",
   "id": "7e1ffbab",
   "metadata": {},
   "source": [
    "<a id= \"6\"></a> <br>\n",
    "### Operadores"
   ]
  },
  {
   "cell_type": "markdown",
   "id": "e2aa9ac2",
   "metadata": {},
   "source": [
    "### Operadores de asignación"
   ]
  },
  {
   "cell_type": "code",
   "execution_count": 68,
   "id": "54483b84",
   "metadata": {},
   "outputs": [
    {
     "name": "stdout",
     "output_type": "stream",
     "text": [
      "x+= 9\n",
      "x-= 5\n",
      "x*= 14\n",
      "x/= 3.5\n",
      "x%= 1\n",
      "x//= 3\n",
      "x**= 49\n"
     ]
    }
   ],
   "source": [
    "a=7; b=2\n",
    "\n",
    "x=a; x+=b;  print(\"x+=\", x)  # 9\n",
    "x=a; x-=b;  print(\"x-=\", x)  # 5\n",
    "x=a; x*=b;  print(\"x*=\", x)  # 14\n",
    "x=a; x/=b;  print(\"x/=\", x)  # 3.5\n",
    "x=a; x%=b;  print(\"x%=\", x)  # 1\n",
    "x=a; x//=b; print(\"x//=\", x) # 3\n",
    "x=a; x**=b; print(\"x**=\", x) # 49"
   ]
  },
  {
   "cell_type": "markdown",
   "id": "933c56fc",
   "metadata": {},
   "source": [
    "### Operadores arittmeticos"
   ]
  },
  {
   "cell_type": "code",
   "execution_count": 69,
   "id": "cd7fcda3",
   "metadata": {},
   "outputs": [
    {
     "name": "stdout",
     "output_type": "stream",
     "text": [
      "Operadores aritméticos\n",
      "x+y = 13\n",
      "x-y = 7\n",
      "x*y = 30\n",
      "x/y = 3.3333333333333335\n",
      "x%y = 1\n",
      "x**y = 1000\n",
      "x//y = 3\n"
     ]
    }
   ],
   "source": [
    "x = 10; y = 3\n",
    "print(\"x+y =\", x+y)   #13\n",
    "print(\"x-y =\", x-y)   #7\n",
    "print(\"x*y =\", x*y)   #30\n",
    "print(\"x/y =\", x/y)   #3.3333333333333335\n",
    "print(\"x%y =\", x%y)   #1\n",
    "print(\"x**y =\", x**y) #1000\n",
    "print(\"x//y =\", x//y) #3"
   ]
  },
  {
   "cell_type": "markdown",
   "id": "840fea12",
   "metadata": {},
   "source": [
    "### Operadores Relacionales"
   ]
  },
  {
   "cell_type": "code",
   "execution_count": 70,
   "id": "87530150",
   "metadata": {},
   "outputs": [
    {
     "name": "stdout",
     "output_type": "stream",
     "text": [
      "x==y = False\n",
      "x!=y = True\n",
      "x>y  = False\n",
      "x<y  = True\n",
      "x>=y = False\n",
      "x<=y = True\n"
     ]
    }
   ],
   "source": [
    "x=2; y=3\n",
    "\n",
    "print(\"x==y =\", x==y) # False\n",
    "print(\"x!=y =\", x!=y) # True\n",
    "print(\"x>y  =\", x>y)  # False\n",
    "print(\"x<y  =\", x<y)  # True\n",
    "print(\"x>=y =\", x>=y) # False\n",
    "print(\"x<=y =\", x<=y) # True"
   ]
  },
  {
   "cell_type": "markdown",
   "id": "45e736b6",
   "metadata": {},
   "source": [
    "### Operadores Lógicos"
   ]
  },
  {
   "cell_type": "code",
   "execution_count": 71,
   "id": "3db5d9a7",
   "metadata": {},
   "outputs": [
    {
     "name": "stdout",
     "output_type": "stream",
     "text": [
      "True\n",
      "False\n",
      "False\n",
      "False\n"
     ]
    }
   ],
   "source": [
    "print(True and True)   # True\n",
    "print(True and False)  # False\n",
    "print(False and True)  # False\n",
    "print(False and False) # False"
   ]
  },
  {
   "cell_type": "markdown",
   "id": "a2dd3e34",
   "metadata": {},
   "source": [
    "<a id= \"7\"></a> <br>\n",
    "### Funciones\n",
    "Las funciones en Python proporcionan código organizado, reutilizable y modular para realizar un conjunto de acciones específicas. Las funciones simplifican el proceso de codificación, evitan la lógica redundante y facilitan el seguimiento del código."
   ]
  },
  {
   "cell_type": "code",
   "execution_count": 72,
   "id": "9deed19f",
   "metadata": {},
   "outputs": [
    {
     "name": "stdout",
     "output_type": "stream",
     "text": [
      "6\n"
     ]
    }
   ],
   "source": [
    "def f(x):\n",
    "    return 2*x\n",
    "y = f(3)\n",
    "print(y) # 6"
   ]
  },
  {
   "cell_type": "code",
   "execution_count": 74,
   "id": "bbce38f8",
   "metadata": {},
   "outputs": [
    {
     "name": "stdout",
     "output_type": "stream",
     "text": [
      "Hello Juan\n"
     ]
    }
   ],
   "source": [
    "def say_hello(name):\n",
    "    print(\"Hello\", name)\n",
    "say_hello(\"Juan\")"
   ]
  },
  {
   "cell_type": "code",
   "execution_count": 78,
   "id": "4623dc5f",
   "metadata": {},
   "outputs": [
    {
     "name": "stdout",
     "output_type": "stream",
     "text": [
      "Hello\n"
     ]
    }
   ],
   "source": [
    "def greeting():\n",
    "    return \"Hello\"\n",
    "\n",
    "print(greeting())"
   ]
  },
  {
   "cell_type": "code",
   "execution_count": 80,
   "id": "c91cfe95",
   "metadata": {},
   "outputs": [
    {
     "name": "stdout",
     "output_type": "stream",
     "text": [
      "Hello\n"
     ]
    }
   ],
   "source": [
    "greet_me = lambda: \"Hello\"\n",
    "print(greet_me())"
   ]
  },
  {
   "cell_type": "code",
   "execution_count": 83,
   "id": "7a2e861c",
   "metadata": {},
   "outputs": [
    {
     "data": {
      "text/plain": [
       "'HELLO'"
      ]
     },
     "execution_count": 83,
     "metadata": {},
     "output_type": "execute_result"
    }
   ],
   "source": [
    "strip_and_upper_case = lambda s: s.strip().upper()\n",
    "strip_and_upper_case(\" Hello \")\n"
   ]
  },
  {
   "cell_type": "code",
   "execution_count": null,
   "id": "524adb44",
   "metadata": {},
   "outputs": [],
   "source": []
  }
 ],
 "metadata": {
  "kernelspec": {
   "display_name": "Python 3 (ipykernel)",
   "language": "python",
   "name": "python3"
  },
  "language_info": {
   "codemirror_mode": {
    "name": "ipython",
    "version": 3
   },
   "file_extension": ".py",
   "mimetype": "text/x-python",
   "name": "python",
   "nbconvert_exporter": "python",
   "pygments_lexer": "ipython3",
   "version": "3.9.18"
  },
  "vscode": {
   "interpreter": {
    "hash": "5a4aefe5433830292dd56e41ad848b6fae049c2ddf8b1ae26c5dfa2d885cad7a"
   }
  }
 },
 "nbformat": 4,
 "nbformat_minor": 5
}
